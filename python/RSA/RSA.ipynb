{
 "cells": [
  {
   "cell_type": "code",
   "execution_count": 189,
   "metadata": {},
   "outputs": [],
   "source": [
    "#This algorithm requires the public key which is n and the exponent e, messages are sent with (n,e) \n",
    "#Standard functions from wikibooks: euclidean, extended euclidean and using that to calculate modular inverses, so much cleaner\n",
    "#thank I would do.\n",
    "def gcd(x,y):\n",
    "    while y!=0:\n",
    "        (x,y) = (y, x%y)\n",
    "    return x\n",
    "\n",
    "def egcd(a,b):\n",
    "    if a == 0:\n",
    "        return(b,0,1)\n",
    "    else:\n",
    "        b_div_a, b_mod_a = divmod(b,a)\n",
    "        g, x, y = egcd(b_mod_a, a)\n",
    "        return (g, y-b_div_a*x,x)\n",
    "    \n",
    "def modinv(a,b):\n",
    "    g,x,_ = egcd(a,b)\n",
    "    if g !=1:\n",
    "        return 0 \n",
    "    return x%b\n",
    "\n",
    "def generateKeys(primes,e = 2**16 + 1):\n",
    "    p = primes[0]\n",
    "    q = primes[1]\n",
    "    phi = (p-1)*(q-1)\n",
    "    publicKey = e\n",
    "    privateKey = modinv(publicKey,phi)\n",
    "    return(publicKey, privateKey)\n",
    "\n",
    "def fea(base, exponent, modulo):\n",
    "    X_0 = base\n",
    "    E_0 = exponent\n",
    "    Y_0 = 1\n",
    "    while not E_0 == 0: \n",
    "        if E_0 % 2 == 0:\n",
    "            Y_0 = Y_0\n",
    "            X_0 = X_0 **2 % modulo\n",
    "            E_0 = E_0 / 2\n",
    "        else:\n",
    "            Y_0 = X_0*Y_0 % modulo\n",
    "            E_0 = E_0 - 1\n",
    "            X_0 = X_0\n",
    "    return Y_0\n",
    "    \n",
    "    \n",
    "def RSA(message,PublicKey,PrivateKey,encrypt = True):\n",
    "    n = PublicKey[0]\n",
    "    e = PublicKey[1]\n",
    "    print(n)\n",
    "    print(e)\n",
    "    if encrypt:\n",
    "        #probably should incorporate padding\n",
    "        cipher = message**e % n\n",
    "        return cipher\n",
    "    else:\n",
    "        \n",
    "        plain = fea(message,PrivateKey, n)\n",
    "        return plain"
   ]
  },
  {
   "cell_type": "code",
   "execution_count": 192,
   "metadata": {},
   "outputs": [
    {
     "data": {
      "text/plain": [
       "(65537, 10777337)"
      ]
     },
     "execution_count": 192,
     "metadata": {},
     "output_type": "execute_result"
    }
   ],
   "source": [
    "generateKeys([7459,3343])"
   ]
  },
  {
   "cell_type": "code",
   "execution_count": 193,
   "metadata": {
    "scrolled": true
   },
   "outputs": [
    {
     "name": "stdout",
     "output_type": "stream",
     "text": [
      "24935437\n",
      "65537\n"
     ]
    },
    {
     "data": {
      "text/plain": [
       "8165063"
      ]
     },
     "execution_count": 193,
     "metadata": {},
     "output_type": "execute_result"
    }
   ],
   "source": [
    "RSA(12345,[7459*3343,65537],10777337)"
   ]
  },
  {
   "cell_type": "code",
   "execution_count": 195,
   "metadata": {},
   "outputs": [
    {
     "name": "stdout",
     "output_type": "stream",
     "text": [
      "24935437\n",
      "65537\n"
     ]
    },
    {
     "data": {
      "text/plain": [
       "12345"
      ]
     },
     "execution_count": 195,
     "metadata": {},
     "output_type": "execute_result"
    }
   ],
   "source": [
    "RSA(8165063,[7459*3343,65537],10777337,encrypt=False)"
   ]
  }
 ],
 "metadata": {
  "kernelspec": {
   "display_name": "Python 3",
   "language": "python",
   "name": "python3"
  },
  "language_info": {
   "codemirror_mode": {
    "name": "ipython",
    "version": 3
   },
   "file_extension": ".py",
   "mimetype": "text/x-python",
   "name": "python",
   "nbconvert_exporter": "python",
   "pygments_lexer": "ipython3",
   "version": "3.8.5"
  }
 },
 "nbformat": 4,
 "nbformat_minor": 4
}
