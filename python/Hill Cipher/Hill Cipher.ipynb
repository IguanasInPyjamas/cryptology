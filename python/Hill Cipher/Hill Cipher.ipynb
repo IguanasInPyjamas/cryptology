{
 "cells": [
  {
   "cell_type": "code",
   "execution_count": 8,
   "metadata": {},
   "outputs": [],
   "source": [
    "import numpy as np\n",
    "from sympy import Matrix"
   ]
  },
  {
   "cell_type": "code",
   "execution_count": 177,
   "metadata": {},
   "outputs": [],
   "source": [
    "def getCofactor(array):\n",
    "    a = array[0][0]\n",
    "    b = array[0][1]\n",
    "    c = array[0][2]\n",
    "    d = array[1][0]\n",
    "    e = array[1][1]\n",
    "    f = array[1][2]\n",
    "    g = array[2][0]\n",
    "    h = array[2][1]\n",
    "    i = array[2][2]\n",
    "    \n",
    "    cofact = np.array([[determinant2x2(np.array([[e,f],[h,i]])),-determinant2x2(np.array([[d,f],[g,i]])),determinant2x2(np.array([[d,e],[g,h]]))],\n",
    "                       [-determinant2x2(np.array([[b,c],[h,i]])),determinant2x2(np.array([[a,c],[g,i]])),-determinant2x2(np.array([[a,b],[g,h]]))],\n",
    "                       [determinant2x2(np.array([[b,c],[e,f]])),-determinant2x2(np.array([[a,c],[d,f]])),determinant2x2(np.array([[a,b],[d,e]]))]])\n",
    "    return cofact\n",
    "\n",
    "def createKey(string):\n",
    "    stringArray = []\n",
    "    string = string.lower().replace(\" \",\"\")\n",
    "    if len(string) == 9:\n",
    "        numericalInterp = [ord(char)-96 for char in string]\n",
    "        for j in range(int(len(numericalInterp)/3)):\n",
    "            subString = numericalInterp[j*3:(j+1)*3]\n",
    "            stringArray.append(subString)\n",
    "        return np.array(stringArray)\n",
    "    else:\n",
    "        return 0\n",
    "\n",
    "def determinant3x3(array):\n",
    "    det = (array[0][0]*(array[1][1]*array[2][2]- array[1][2]*array[2][1])\n",
    "     - array[0][1]*(array[1][0]*array[2][2] - array[1][2]*array[2][0])\n",
    "     + array[0][2]*(array[1][0]*array[2][1] - array[1][1]*array[2][0]))\n",
    "    return det\n",
    "\n",
    "def determinant2x2(array):\n",
    "    det = array[0][0]*array[1][1] - array[0][1]*array[1][0]\n",
    "    return det\n",
    "\n",
    "def inverse3x3(array):\n",
    "    det = determinant3x3(array)\n",
    "    cofac = getCofactor(array)\n",
    "    return np.array(1/det*cofac.T)\n",
    "\n",
    "def inverse3x3mod26(array):\n",
    "    det = int(determinant3x3(array)) % 26\n",
    "    cofac = getCofactor(array)\n",
    "    modDet = pow(det,-1,26)\n",
    "    inverse = (modDet*cofac.T) % 26\n",
    "    return inverse\n",
    "\n",
    "def convertString(string):\n",
    "    stringArray = []\n",
    "    string = string.lower().replace(\" \",\"\")\n",
    "    \n",
    "    if not len(string) % 3 == 0:\n",
    "        for i in range(0,(-len(string))%3):\n",
    "            string = string + \"a\"\n",
    "    numericalInterp = [ord(char)-96 for char in string]\n",
    "    for j in range(int(len(numericalInterp)/3)):\n",
    "        subString = numericalInterp[j*3:(j+1)*3]\n",
    "        stringArray.append(subString)\n",
    "    return np.array(stringArray)\n",
    "\n",
    "def convertArray(array):\n",
    "    tempArray = []\n",
    "    for a in array:\n",
    "        tempArray.append(a)\n",
    "    flatten = [item for sublist in tempArray for item in sublist]\n",
    "    string = \" \".join([chr(char+96) for char in flatten]).replace(\" \",\"\")\n",
    "    return string\n",
    "\n",
    "def hillCipher(message,Key,encrypt=True):\n",
    "    if encrypt:\n",
    "        numberRep = convertString(message)\n",
    "        cipher = []\n",
    "        for n in numberRep:\n",
    "            cipher.append(np.matmul(Key,n) % 26)\n",
    "        return convertArray(cipher)\n",
    "    else:\n",
    "        numberRep = convertString(message)\n",
    "        plain = []\n",
    "        inverseKey = inverse3x3mod26(Key)\n",
    "        for n in numberRep:\n",
    "            plain.append(np.matmul(inverseKey,n)%26)\n",
    "        return convertArray(plain)\n",
    "            "
   ]
  },
  {
   "cell_type": "code",
   "execution_count": 178,
   "metadata": {},
   "outputs": [
    {
     "data": {
      "text/plain": [
       "array([[1, 2, 3],\n",
       "       [4, 5, 6],\n",
       "       [7, 8, 9]])"
      ]
     },
     "execution_count": 178,
     "metadata": {},
     "output_type": "execute_result"
    }
   ],
   "source": [
    "text = 'Darkness blacker than black and darker than dark I beseech thee combine with my deep crimson The time of awakening cometh Justice fallen upon the infallible boundary appear now as an intangible distortion Dance Dance Dance I desire for my torrent of power a destructive force a destructive force without equal Return all creation to cinders and come from the abyss This is the mightiest means of attack known to man the ultimate attack magic EXPLOSION'\n",
    "key = np.array([[1,5,7],\n",
    "                [4,9,6],\n",
    "                [16,18,11]]) % 26\n",
    "createKey(\"abc def ghi\")"
   ]
  },
  {
   "cell_type": "code",
   "execution_count": 179,
   "metadata": {},
   "outputs": [
    {
     "data": {
      "text/plain": [
       "'hypbn`kaqwsowusmvebhnng`otyhypwusmveydioyiqqqxkxtxbxkxugs`flwwwemucsixelng`ypg`upxaddrffghhntkeydytnxhomkdcbrwblapttt`vrmsyrwbjarbgluoihypwsocqemxidcbdxrefgcoaotyask`cfegiydiiwkvafyislnpikmrmhtclltbfdbqjculcelsiqyxbfixmikmptxlylpqrsyeojerjbxsnhlp`gncbaxfnjwjklmlgb`cftojooocmwgqaw`ctplotytixsbkwkyukaemuepavcjepafilefgxsnischfddrfkdwfc`iiiulcekqytoadglctgggkdwlorpongyqgfedcbsok'"
      ]
     },
     "execution_count": 179,
     "metadata": {},
     "output_type": "execute_result"
    }
   ],
   "source": [
    "hillCipher(text,createKey(\"abc def ghi\"))"
   ]
  },
  {
   "cell_type": "code",
   "execution_count": 180,
   "metadata": {},
   "outputs": [
    {
     "data": {
      "text/plain": [
       "'darknessblackerthanblackanddarkerthandarkibeseechtheecombinewithmydeepcrimsonthetimeofawakeningcomethjusticefallenupontheinfallibleboundaryappearnowasanintangibledistortiondancedancedanceidesireformytorrentofpoweradestructiveforceadestructiveforcewithoutequalreturnallcreationtocindersandcomefromtheabyssthisisthemightiestmeansofattackknowntomantheultimateattackmagicexplosionaa'"
      ]
     },
     "execution_count": 180,
     "metadata": {},
     "output_type": "execute_result"
    }
   ],
   "source": [
    "hillCipher(hillCipher(text,key),key,encrypt = False)"
   ]
  },
  {
   "cell_type": "code",
   "execution_count": null,
   "metadata": {},
   "outputs": [],
   "source": []
  }
 ],
 "metadata": {
  "kernelspec": {
   "display_name": "Python 3",
   "language": "python",
   "name": "python3"
  },
  "language_info": {
   "codemirror_mode": {
    "name": "ipython",
    "version": 3
   },
   "file_extension": ".py",
   "mimetype": "text/x-python",
   "name": "python",
   "nbconvert_exporter": "python",
   "pygments_lexer": "ipython3",
   "version": "3.8.5"
  }
 },
 "nbformat": 4,
 "nbformat_minor": 4
}
